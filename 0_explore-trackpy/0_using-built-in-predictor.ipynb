{
 "cells": [
  {
   "cell_type": "markdown",
   "id": "c1e32952-fdb5-4926-a66e-a7da817d9d52",
   "metadata": {},
   "source": [
    "# Identify Peaks using Object Tracking\n",
    "We are going to find which peaks are the same between frames by treating them as particles then using object tracking to associate them between frames."
   ]
  },
  {
   "cell_type": "code",
   "execution_count": 1,
   "id": "a9adee68-83b7-4b48-8f39-47dd1791041a",
   "metadata": {},
   "outputs": [],
   "source": [
    "%matplotlib inline\n",
    "from matplotlib import pyplot as plt\n",
    "from sklearn.preprocessing import MinMaxScaler\n",
    "import trackpy as tp\n",
    "import pandas as pd\n",
    "import numpy as np"
   ]
  },
  {
   "cell_type": "markdown",
   "id": "fb720bc1-c953-4ad8-a7b5-6ed641b23918",
   "metadata": {},
   "source": [
    "## Load in Peak Locations\n",
    "Get the peak locations from the previous notebook"
   ]
  },
  {
   "cell_type": "code",
   "execution_count": 2,
   "id": "fe6e63e3-8f7c-4985-9c0e-0490ecae0148",
   "metadata": {},
   "outputs": [
    {
     "name": "stdout",
     "output_type": "stream",
     "text": [
      "Loaded data from 256 frames\n"
     ]
    }
   ],
   "source": [
    "frame_data = pd.read_pickle('../peak_data.pkl.gz')\n",
    "print(f'Loaded data from {len(frame_data)} frames')"
   ]
  },
  {
   "cell_type": "markdown",
   "id": "e592128e-2cea-4324-a503-ba47e57b78f5",
   "metadata": {},
   "source": [
    "## Reshape into a per-particle dataframe\n",
    "Trackpy wants the x and y coordinates for each particle."
   ]
  },
  {
   "cell_type": "code",
   "execution_count": 3,
   "id": "31f9531b-cece-440e-848d-ac342503d14b",
   "metadata": {},
   "outputs": [
    {
     "name": "stdout",
     "output_type": "stream",
     "text": [
      "Found a total of 4117 peaks\n"
     ]
    }
   ],
   "source": [
    "peak_data = []\n",
    "for fid, frame in frame_data.iterrows():\n",
    "    offset, height = frame['peak_locs'].T\n",
    "    peak_data.append(pd.DataFrame({\n",
    "        'time_hr': frame['time_hr'],\n",
    "        'offset': offset,\n",
    "        'height': height,\n",
    "        'log_height': np.log(height),\n",
    "        'frame': [fid] * len(offset)\n",
    "    }))\n",
    "peak_data = pd.concat(peak_data)\n",
    "print(f'Found a total of {len(peak_data)} peaks')"
   ]
  },
  {
   "cell_type": "code",
   "execution_count": 4,
   "id": "3c43e201-9760-468f-b45e-1ddbe283f0fe",
   "metadata": {},
   "outputs": [
    {
     "data": {
      "text/html": [
       "<div>\n",
       "<style scoped>\n",
       "    .dataframe tbody tr th:only-of-type {\n",
       "        vertical-align: middle;\n",
       "    }\n",
       "\n",
       "    .dataframe tbody tr th {\n",
       "        vertical-align: top;\n",
       "    }\n",
       "\n",
       "    .dataframe thead th {\n",
       "        text-align: right;\n",
       "    }\n",
       "</style>\n",
       "<table border=\"1\" class=\"dataframe\">\n",
       "  <thead>\n",
       "    <tr style=\"text-align: right;\">\n",
       "      <th></th>\n",
       "      <th>time_hr</th>\n",
       "      <th>offset</th>\n",
       "      <th>height</th>\n",
       "      <th>log_height</th>\n",
       "      <th>frame</th>\n",
       "    </tr>\n",
       "  </thead>\n",
       "  <tbody>\n",
       "    <tr>\n",
       "      <th>0</th>\n",
       "      <td>0.251189</td>\n",
       "      <td>8.138739</td>\n",
       "      <td>1.135388</td>\n",
       "      <td>0.126974</td>\n",
       "      <td>0</td>\n",
       "    </tr>\n",
       "    <tr>\n",
       "      <th>1</th>\n",
       "      <td>0.251189</td>\n",
       "      <td>8.123152</td>\n",
       "      <td>1.176360</td>\n",
       "      <td>0.162425</td>\n",
       "      <td>0</td>\n",
       "    </tr>\n",
       "    <tr>\n",
       "      <th>2</th>\n",
       "      <td>0.251189</td>\n",
       "      <td>8.081189</td>\n",
       "      <td>2.753516</td>\n",
       "      <td>1.012879</td>\n",
       "      <td>0</td>\n",
       "    </tr>\n",
       "    <tr>\n",
       "      <th>3</th>\n",
       "      <td>0.251189</td>\n",
       "      <td>8.065602</td>\n",
       "      <td>2.796348</td>\n",
       "      <td>1.028314</td>\n",
       "      <td>0</td>\n",
       "    </tr>\n",
       "    <tr>\n",
       "      <th>4</th>\n",
       "      <td>0.251189</td>\n",
       "      <td>7.970165</td>\n",
       "      <td>0.597685</td>\n",
       "      <td>-0.514691</td>\n",
       "      <td>0</td>\n",
       "    </tr>\n",
       "  </tbody>\n",
       "</table>\n",
       "</div>"
      ],
      "text/plain": [
       "    time_hr    offset    height  log_height  frame\n",
       "0  0.251189  8.138739  1.135388    0.126974      0\n",
       "1  0.251189  8.123152  1.176360    0.162425      0\n",
       "2  0.251189  8.081189  2.753516    1.012879      0\n",
       "3  0.251189  8.065602  2.796348    1.028314      0\n",
       "4  0.251189  7.970165  0.597685   -0.514691      0"
      ]
     },
     "execution_count": 4,
     "metadata": {},
     "output_type": "execute_result"
    }
   ],
   "source": [
    "peak_data.head()"
   ]
  },
  {
   "cell_type": "markdown",
   "id": "f392f394-b0e7-43d0-b8fc-2cce2b576d51",
   "metadata": {},
   "source": [
    "## Perform the tracking\n",
    "We are going to use "
   ]
  },
  {
   "cell_type": "code",
   "execution_count": 5,
   "id": "9c73b844-949f-4fc9-ad62-8698e7239af6",
   "metadata": {},
   "outputs": [
    {
     "name": "stdout",
     "output_type": "stream",
     "text": [
      "Frame 0: 17 trajectories present.\n",
      "Found 59 unique peaks\n"
     ]
    }
   ],
   "source": [
    "peak_data['y'] = 1  # Do not use the height\n",
    "peak_data['x'] = peak_data['offset']\n",
    "pred = tp.predict.NearestVelocityPredict(span=12)\n",
    "peak_data['frame'] *= -1\n",
    "peak_data = pred.link_df(peak_data.sort_values('frame', ascending=False), search_range=0.005, memory=16)\n",
    "peak_data['frame'] *= -1\n",
    "print(f'Found {peak_data.particle.max() + 1} unique peaks')"
   ]
  },
  {
   "cell_type": "code",
   "execution_count": 6,
   "id": "514a52ce-f7ee-4f4d-bff1-8a82c624c50b",
   "metadata": {},
   "outputs": [
    {
     "data": {
      "text/html": [
       "<div>\n",
       "<style scoped>\n",
       "    .dataframe tbody tr th:only-of-type {\n",
       "        vertical-align: middle;\n",
       "    }\n",
       "\n",
       "    .dataframe tbody tr th {\n",
       "        vertical-align: top;\n",
       "    }\n",
       "\n",
       "    .dataframe thead th {\n",
       "        text-align: right;\n",
       "    }\n",
       "</style>\n",
       "<table border=\"1\" class=\"dataframe\">\n",
       "  <thead>\n",
       "    <tr style=\"text-align: right;\">\n",
       "      <th></th>\n",
       "      <th>time_hr</th>\n",
       "      <th>offset</th>\n",
       "      <th>height</th>\n",
       "      <th>log_height</th>\n",
       "      <th>frame</th>\n",
       "      <th>y</th>\n",
       "      <th>x</th>\n",
       "      <th>particle</th>\n",
       "    </tr>\n",
       "  </thead>\n",
       "  <tbody>\n",
       "    <tr>\n",
       "      <th>12</th>\n",
       "      <td>398.107171</td>\n",
       "      <td>7.700399</td>\n",
       "      <td>6.515830</td>\n",
       "      <td>1.874235</td>\n",
       "      <td>255</td>\n",
       "      <td>1</td>\n",
       "      <td>7.700399</td>\n",
       "      <td>0</td>\n",
       "    </tr>\n",
       "    <tr>\n",
       "      <th>22</th>\n",
       "      <td>398.107171</td>\n",
       "      <td>7.068788</td>\n",
       "      <td>0.618417</td>\n",
       "      <td>-0.480593</td>\n",
       "      <td>255</td>\n",
       "      <td>1</td>\n",
       "      <td>7.068788</td>\n",
       "      <td>1</td>\n",
       "    </tr>\n",
       "    <tr>\n",
       "      <th>21</th>\n",
       "      <td>398.107171</td>\n",
       "      <td>7.266856</td>\n",
       "      <td>5.825412</td>\n",
       "      <td>1.762230</td>\n",
       "      <td>255</td>\n",
       "      <td>1</td>\n",
       "      <td>7.266856</td>\n",
       "      <td>2</td>\n",
       "    </tr>\n",
       "    <tr>\n",
       "      <th>20</th>\n",
       "      <td>398.107171</td>\n",
       "      <td>7.280284</td>\n",
       "      <td>11.846059</td>\n",
       "      <td>2.471995</td>\n",
       "      <td>255</td>\n",
       "      <td>1</td>\n",
       "      <td>7.280284</td>\n",
       "      <td>3</td>\n",
       "    </tr>\n",
       "    <tr>\n",
       "      <th>19</th>\n",
       "      <td>398.107171</td>\n",
       "      <td>7.293952</td>\n",
       "      <td>7.211745</td>\n",
       "      <td>1.975711</td>\n",
       "      <td>255</td>\n",
       "      <td>1</td>\n",
       "      <td>7.293952</td>\n",
       "      <td>4</td>\n",
       "    </tr>\n",
       "  </tbody>\n",
       "</table>\n",
       "</div>"
      ],
      "text/plain": [
       "       time_hr    offset     height  log_height  frame  y         x  particle\n",
       "12  398.107171  7.700399   6.515830    1.874235    255  1  7.700399         0\n",
       "22  398.107171  7.068788   0.618417   -0.480593    255  1  7.068788         1\n",
       "21  398.107171  7.266856   5.825412    1.762230    255  1  7.266856         2\n",
       "20  398.107171  7.280284  11.846059    2.471995    255  1  7.280284         3\n",
       "19  398.107171  7.293952   7.211745    1.975711    255  1  7.293952         4"
      ]
     },
     "execution_count": 6,
     "metadata": {},
     "output_type": "execute_result"
    }
   ],
   "source": [
    "peak_data.head()"
   ]
  },
  {
   "cell_type": "code",
   "execution_count": 7,
   "id": "3144bfdb-657e-4a8e-8b06-016e041b60f1",
   "metadata": {},
   "outputs": [
    {
     "data": {
      "image/png": "[encoded data removed]",
      "text/plain": [
       "<Figure size 350x250 with 1 Axes>"
      ]
     },
     "metadata": {},
     "output_type": "display_data"
    }
   ],
   "source": [
    "fig, ax = plt.subplots(figsize=(3.5, 2.5), sharex=True)\n",
    "\n",
    "for gid, group in peak_data.groupby('particle'):\n",
    "    ax.plot(group['offset'], group['frame'], '-', lw=1.5)\n",
    "\n",
    "ax.set_ylabel('Frame')\n",
    "    \n",
    "ax.set_xlim(ax.get_xlim()[::-1])\n",
    "ax.set_xlabel('$\\delta$ (ppm)')\n",
    "\n",
    "fig.tight_layout()\n",
    "fig.savefig('figures/built-in-trackpy-result.png', dpi=320)"
   ]
  },
  {
   "cell_type": "markdown",
   "id": "1b4843fb-2403-41a3-b072-4d74c7eacc82",
   "metadata": {},
   "source": [
    "It does succeed in getting peaks which move over time, but we don't get the the crossover. We're going to have to do more work on tracking"
   ]
  },
  {
   "cell_type": "markdown",
   "id": "5522810f-b36c-4930-9214-d524a4d35877",
   "metadata": {},
   "source": [
    "## Save the data\n",
    "Save it to disk for later use"
   ]
  },
  {
   "cell_type": "code",
   "execution_count": 8,
   "id": "1995da66-28b6-46d5-bf10-d54a6a1c8866",
   "metadata": {},
   "outputs": [],
   "source": [
    "peak_data.to_csv('tracks/nearest-velocity-tracks.csv', index=False)"
   ]
  },
  {
   "cell_type": "code",
   "execution_count": null,
   "id": "4c046af9-28bc-4e2c-b52c-83273aa3d7aa",
   "metadata": {},
   "outputs": [],
   "source": []
  }
 ],
 "metadata": {
  "kernelspec": {
   "display_name": "Python 3 (ipykernel)",
   "language": "python",
   "name": "python3"
  },
  "language_info": {
   "codemirror_mode": {
    "name": "ipython",
    "version": 3
   },
   "file_extension": ".py",
   "mimetype": "text/x-python",
   "name": "python",
   "nbconvert_exporter": "python",
   "pygments_lexer": "ipython3",
   "version": "3.10.11"
  }
 },
 "nbformat": 4,
 "nbformat_minor": 5
}
