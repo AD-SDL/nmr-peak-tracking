{
 "cells": [
  {
   "cell_type": "markdown",
   "id": "e08d08ee-a098-4eb0-96f4-4bc67786f779",
   "metadata": {},
   "source": [
    "# Run an initial peak detection with SciPy\n",
    "Load the data from HDF5, make some plots to ensure we understand it, then get some peak locations"
   ]
  },
  {
   "cell_type": "code",
   "execution_count": 1,
   "id": "507d3e68-3b64-41ea-a2ec-646605c029be",
   "metadata": {},
   "outputs": [],
   "source": [
    "%matplotlib inline\n",
    "from matplotlib import pyplot as plt\n",
    "from matplotlib import animation\n",
    "from scipy.interpolate import interp1d\n",
    "from scipy.signal import find_peaks\n",
    "from tqdm import tqdm\n",
    "import pandas as pd\n",
    "import numpy as np\n",
    "import h5py"
   ]
  },
  {
   "cell_type": "markdown",
   "id": "d29e20d6-ec0c-4efe-b15a-a3106b462088",
   "metadata": {},
   "source": [
    "Configuration"
   ]
  },
  {
   "cell_type": "code",
   "execution_count": 2,
   "id": "32004c78-d049-465d-a973-d9a61c9424dd",
   "metadata": {},
   "outputs": [],
   "source": [
    "span = [8.2, 6.8]\n",
    "peak_kwargs = dict(width=0.007, prominence=0.2)"
   ]
  },
  {
   "cell_type": "markdown",
   "id": "223063fd-c9bd-48be-a580-15fc53095e93",
   "metadata": {},
   "source": [
    "## Load the Tracks and Store Signals\n",
    "The times are stored in `common` and the signals in parameters entitled `scan<id>`.\n",
    "Each of the scans also has a metadata segment\n"
   ]
  },
  {
   "cell_type": "code",
   "execution_count": 3,
   "id": "6726af7a-4c7d-447f-9cc2-950ca03f4d0c",
   "metadata": {},
   "outputs": [],
   "source": [
    "def load_nmr_h5(path: str, span=[8.2, 6.8]) -> pd.DataFrame:\n",
    "    \"\"\"Load an HDF5 file into a Pandas data frame for later analysis\n",
    "    \n",
    "    Args:\n",
    "        path: Location of the HDF5 file\n",
    "        span: Range of data to plot\n",
    "        points: Number of points to capture within this range\n",
    "    Returns:\n",
    "        Dataframe where each row is a different measurement.\n",
    "    \"\"\"\n",
    "    \n",
    "    with h5py.File(path) as h5_data:\n",
    "        # Determine the number of times to sample from, and names of metadata for each\n",
    "        common = h5_data['common']\n",
    "        times = np.array(common['time delays, min'])\n",
    "        fields = [x.decode() for x in common['parameter, name']]\n",
    "        \n",
    "        # Load each frame\n",
    "        output = []\n",
    "        offsets = None\n",
    "        for i, time in enumerate(times):\n",
    "            # Get the metadata\n",
    "            page = h5_data[f'scan{i}']\n",
    "            record = {'frame': i, 'time': time}\n",
    "            record.update(dict(zip(fields, page['parameter, value'])))\n",
    "            \n",
    "            # Get the NMR data\n",
    "            my_data = np.array(page['NMR spectrum'])\n",
    "            my_offsets = record['offset, ppm'] + np.arange(len(my_data)) * record['delta, ppm']\n",
    "            \n",
    "            # Sample it to match the first frame (just in case)\n",
    "            if offsets is None: \n",
    "                offsets = my_offsets.copy() if span is None else my_offsets[np.logical_and(my_offsets < max(span), my_offsets > min(span))]\n",
    "            record['raw_signal'] = interp1d(my_offsets, my_data)(offsets)\n",
    "            output.append(record)\n",
    "        return pd.DataFrame(output), offsets"
   ]
  },
  {
   "cell_type": "code",
   "execution_count": 4,
   "id": "da8cc057-894f-4208-9f82-214a639cd152",
   "metadata": {},
   "outputs": [
    {
     "data": {
      "text/html": [
       "<div>\n",
       "<style scoped>\n",
       "    .dataframe tbody tr th:only-of-type {\n",
       "        vertical-align: middle;\n",
       "    }\n",
       "\n",
       "    .dataframe tbody tr th {\n",
       "        vertical-align: top;\n",
       "    }\n",
       "\n",
       "    .dataframe thead th {\n",
       "        text-align: right;\n",
       "    }\n",
       "</style>\n",
       "<table border=\"1\" class=\"dataframe\">\n",
       "  <thead>\n",
       "    <tr style=\"text-align: right;\">\n",
       "      <th></th>\n",
       "      <th>frame</th>\n",
       "      <th>time</th>\n",
       "      <th>CD3CN</th>\n",
       "      <th>offset, ppm</th>\n",
       "      <th>delta, ppm</th>\n",
       "      <th>freq, MHz</th>\n",
       "      <th>T, K</th>\n",
       "      <th>raw_signal</th>\n",
       "    </tr>\n",
       "  </thead>\n",
       "  <tbody>\n",
       "    <tr>\n",
       "      <th>0</th>\n",
       "      <td>0</td>\n",
       "      <td>0.000000</td>\n",
       "      <td>NaN</td>\n",
       "      <td>10.729689</td>\n",
       "      <td>-0.00024</td>\n",
       "      <td>500.252655</td>\n",
       "      <td>298.150909</td>\n",
       "      <td>[0.013013586401939392, 0.031242359429597855, 0...</td>\n",
       "    </tr>\n",
       "    <tr>\n",
       "      <th>1</th>\n",
       "      <td>1</td>\n",
       "      <td>10.731133</td>\n",
       "      <td>NaN</td>\n",
       "      <td>10.729689</td>\n",
       "      <td>-0.00024</td>\n",
       "      <td>500.252655</td>\n",
       "      <td>298.150909</td>\n",
       "      <td>[0.007046863902360201, 0.010115409968420863, 0...</td>\n",
       "    </tr>\n",
       "    <tr>\n",
       "      <th>2</th>\n",
       "      <td>2</td>\n",
       "      <td>21.461466</td>\n",
       "      <td>NaN</td>\n",
       "      <td>10.729689</td>\n",
       "      <td>-0.00024</td>\n",
       "      <td>500.252655</td>\n",
       "      <td>298.150909</td>\n",
       "      <td>[-0.03856595978140831, -0.03175279125571251, -...</td>\n",
       "    </tr>\n",
       "    <tr>\n",
       "      <th>3</th>\n",
       "      <td>3</td>\n",
       "      <td>32.192551</td>\n",
       "      <td>NaN</td>\n",
       "      <td>10.729689</td>\n",
       "      <td>-0.00024</td>\n",
       "      <td>500.252655</td>\n",
       "      <td>298.150909</td>\n",
       "      <td>[0.02139940671622753, 0.012769201770424843, -0...</td>\n",
       "    </tr>\n",
       "    <tr>\n",
       "      <th>4</th>\n",
       "      <td>4</td>\n",
       "      <td>42.924252</td>\n",
       "      <td>NaN</td>\n",
       "      <td>10.729689</td>\n",
       "      <td>-0.00024</td>\n",
       "      <td>500.252655</td>\n",
       "      <td>298.150909</td>\n",
       "      <td>[-0.008005277370102704, -0.001194242388010025,...</td>\n",
       "    </tr>\n",
       "  </tbody>\n",
       "</table>\n",
       "</div>"
      ],
      "text/plain": [
       "   frame       time   CD3CN  offset, ppm  delta, ppm   freq, MHz        T, K  \\\n",
       "0      0   0.000000     NaN    10.729689    -0.00024  500.252655  298.150909   \n",
       "1      1  10.731133     NaN    10.729689    -0.00024  500.252655  298.150909   \n",
       "2      2  21.461466     NaN    10.729689    -0.00024  500.252655  298.150909   \n",
       "3      3  32.192551     NaN    10.729689    -0.00024  500.252655  298.150909   \n",
       "4      4  42.924252     NaN    10.729689    -0.00024  500.252655  298.150909   \n",
       "\n",
       "                                          raw_signal  \n",
       "0  [0.013013586401939392, 0.031242359429597855, 0...  \n",
       "1  [0.007046863902360201, 0.010115409968420863, 0...  \n",
       "2  [-0.03856595978140831, -0.03175279125571251, -...  \n",
       "3  [0.02139940671622753, 0.012769201770424843, -0...  \n",
       "4  [-0.008005277370102704, -0.001194242388010025,...  "
      ]
     },
     "execution_count": 4,
     "metadata": {},
     "output_type": "execute_result"
    }
   ],
   "source": [
    "data, offsets = load_nmr_h5('raw-data/example-problem.h5', span=span)\n",
    "data.head()"
   ]
  },
  {
   "cell_type": "markdown",
   "id": "776d8f14-c34b-46db-b563-7f9abed78325",
   "metadata": {},
   "source": [
    "## Interpolate the spectra\n",
    "We take the measurements at non-even spacing. Let's interpolate just to life easier."
   ]
  },
  {
   "cell_type": "code",
   "execution_count": 5,
   "id": "f7fb0e74-b85e-4369-8af8-06ee703d482e",
   "metadata": {},
   "outputs": [
    {
     "data": {
      "text/plain": [
       "Text(0, 0.5, 'Time (hr)')"
      ]
     },
     "execution_count": 5,
     "metadata": {},
     "output_type": "execute_result"
    },
    {
     "data": {
      "image/png": "[encoded data removed]",
      "text/plain": [
       "<Figure size 350x250 with 1 Axes>"
      ]
     },
     "metadata": {},
     "output_type": "display_data"
    }
   ],
   "source": [
    "fig, ax = plt.subplots(figsize=(3.5, 2.5))\n",
    "\n",
    "ax.semilogy(data['time'] / 60)\n",
    "\n",
    "ax.set_xlabel('Frame')\n",
    "ax.set_ylabel('Time (hr)')"
   ]
  },
  {
   "cell_type": "markdown",
   "id": "ce9d4664-96d7-4468-892a-4915fb6ef3a0",
   "metadata": {},
   "source": [
    "Interpolate along a grid"
   ]
  },
  {
   "cell_type": "code",
   "execution_count": 6,
   "id": "11d83e35-7cf9-43df-b48a-5631a4a0eda5",
   "metadata": {},
   "outputs": [],
   "source": [
    "log_times = np.logspace(-0.6, 2.6, 256)\n",
    "raw_spectra = np.stack(data['raw_signal'].tolist())"
   ]
  },
  {
   "cell_type": "code",
   "execution_count": 7,
   "id": "77815be7-ae20-4ea2-8134-8757fea3c5e5",
   "metadata": {},
   "outputs": [
    {
     "name": "stderr",
     "output_type": "stream",
     "text": [
      "100%|███████████████████████████████████████████████████████████████████████████████████████████████████████████████████████████████████████████████████████████████████████████████████████████████████████████████████████████████████████████████| 5838/5838 [00:00<00:00, 8207.45it/s]\n"
     ]
    }
   ],
   "source": [
    "inter_spectra = np.zeros((log_times.shape[0], raw_spectra.shape[1]))\n",
    "for j in tqdm(range(raw_spectra.shape[1])):\n",
    "    inter_spectra[:, j] = interp1d(data['time'] / 60, raw_spectra[:, j])(log_times)"
   ]
  },
  {
   "cell_type": "code",
   "execution_count": 8,
   "id": "61e84423-af60-4dfa-8052-ae69985c7764",
   "metadata": {},
   "outputs": [
    {
     "data": {
      "image/png": "[encoded data removed]",
      "text/plain": [
       "<Figure size 350x250 with 1 Axes>"
      ]
     },
     "metadata": {},
     "output_type": "display_data"
    }
   ],
   "source": [
    "fig, ax = plt.subplots(figsize=(3.5, 2.5))\n",
    "\n",
    "ax.imshow(inter_spectra, aspect='auto', origin='lower', cmap='plasma',\n",
    "          extent=[span[0], span[1], np.log10(log_times[0]), np.log10(log_times[-1])])\n",
    "\n",
    "ax.set_ylabel('Log(Time) (log(hr))')\n",
    "ax.set_xlabel('$\\delta$ (ppm)')\n",
    "\n",
    "fig.tight_layout()\n",
    "fig.savefig('figures/interpolated-nmr-over-time.png', dpi=320)"
   ]
  },
  {
   "cell_type": "markdown",
   "id": "259452d0-3a2c-4fd4-8285-c3a021db367d",
   "metadata": {},
   "source": [
    "Looks close to what Ilya sent me earlier. Let's re-package"
   ]
  },
  {
   "cell_type": "code",
   "execution_count": 9,
   "id": "920ee2e1-c6b7-403d-8690-115d698fa560",
   "metadata": {},
   "outputs": [
    {
     "data": {
      "text/html": [
       "<div>\n",
       "<style scoped>\n",
       "    .dataframe tbody tr th:only-of-type {\n",
       "        vertical-align: middle;\n",
       "    }\n",
       "\n",
       "    .dataframe tbody tr th {\n",
       "        vertical-align: top;\n",
       "    }\n",
       "\n",
       "    .dataframe thead th {\n",
       "        text-align: right;\n",
       "    }\n",
       "</style>\n",
       "<table border=\"1\" class=\"dataframe\">\n",
       "  <thead>\n",
       "    <tr style=\"text-align: right;\">\n",
       "      <th></th>\n",
       "      <th>time_hr</th>\n",
       "      <th>signal</th>\n",
       "    </tr>\n",
       "  </thead>\n",
       "  <tbody>\n",
       "    <tr>\n",
       "      <th>0</th>\n",
       "      <td>0.251189</td>\n",
       "      <td>[-0.011402525098837143, -0.006819361194174801,...</td>\n",
       "    </tr>\n",
       "    <tr>\n",
       "      <th>1</th>\n",
       "      <td>0.258553</td>\n",
       "      <td>[-0.013280717696278158, -0.008543362017989643,...</td>\n",
       "    </tr>\n",
       "    <tr>\n",
       "      <th>2</th>\n",
       "      <td>0.266133</td>\n",
       "      <td>[-0.015213972705430793, -0.010317904859317176,...</td>\n",
       "    </tr>\n",
       "    <tr>\n",
       "      <th>3</th>\n",
       "      <td>0.273935</td>\n",
       "      <td>[-0.01720390437458226, -0.012144471443397281, ...</td>\n",
       "    </tr>\n",
       "    <tr>\n",
       "      <th>4</th>\n",
       "      <td>0.281966</td>\n",
       "      <td>[-0.019252174276454974, -0.01402458693476643, ...</td>\n",
       "    </tr>\n",
       "  </tbody>\n",
       "</table>\n",
       "</div>"
      ],
      "text/plain": [
       "    time_hr                                             signal\n",
       "0  0.251189  [-0.011402525098837143, -0.006819361194174801,...\n",
       "1  0.258553  [-0.013280717696278158, -0.008543362017989643,...\n",
       "2  0.266133  [-0.015213972705430793, -0.010317904859317176,...\n",
       "3  0.273935  [-0.01720390437458226, -0.012144471443397281, ...\n",
       "4  0.281966  [-0.019252174276454974, -0.01402458693476643, ..."
      ]
     },
     "execution_count": 9,
     "metadata": {},
     "output_type": "execute_result"
    }
   ],
   "source": [
    "inter_data = pd.DataFrame({'time_hr': log_times, 'signal': inter_spectra.tolist()})\n",
    "inter_data.head()"
   ]
  },
  {
   "cell_type": "markdown",
   "id": "d18f392d-45ed-4710-859b-5d7640f7fbdb",
   "metadata": {},
   "source": [
    "## Do some peak detection\n",
    "Detect peaks for each spectrum separately, without considering the others. \n",
    "\n",
    "We'll first demonstrate on the first spectrum"
   ]
  },
  {
   "cell_type": "code",
   "execution_count": 10,
   "id": "3a1dbbcf-ebdf-4e26-95c9-70b2feba9fbe",
   "metadata": {},
   "outputs": [],
   "source": [
    "example_signal = np.array(inter_data['signal'][0])"
   ]
  },
  {
   "cell_type": "code",
   "execution_count": 11,
   "id": "d3b1b17a-728e-40de-bed7-a15bbc8e8176",
   "metadata": {},
   "outputs": [
    {
     "name": "stdout",
     "output_type": "stream",
     "text": [
      "Found 17 peaks\n"
     ]
    }
   ],
   "source": [
    "peaks, props = find_peaks(example_signal, **peak_kwargs)\n",
    "print(f'Found {len(peaks)} peaks')"
   ]
  },
  {
   "cell_type": "code",
   "execution_count": 12,
   "id": "a3fb8b18-c787-4e98-8557-d774229ef456",
   "metadata": {},
   "outputs": [
    {
     "data": {
      "text/plain": [
       "(8.2, 6.8)"
      ]
     },
     "execution_count": 12,
     "metadata": {},
     "output_type": "execute_result"
    },
    {
     "data": {
      "image/png": "[encoded data removed]",
      "text/plain": [
       "<Figure size 550x250 with 1 Axes>"
      ]
     },
     "metadata": {},
     "output_type": "display_data"
    }
   ],
   "source": [
    "fig, ax = plt.subplots(figsize=(5.5, 2.5))\n",
    "\n",
    "nmr = ax.plot(offsets, example_signal, 'k', lw=1)\n",
    "peak_locs = ax.scatter(offsets[peaks], example_signal[peaks], color='r', s=15, alpha=0.5)\n",
    "\n",
    "ax.set_xlabel('$\\delta$ (ppm)')\n",
    "ax.set_xlim(span)"
   ]
  },
  {
   "cell_type": "markdown",
   "id": "ec44124f-3c56-40f2-a13b-d28dc35e1550",
   "metadata": {},
   "source": [
    "Make a video"
   ]
  },
  {
   "cell_type": "code",
   "execution_count": 13,
   "id": "6fc04191-9f65-4c6d-bf0f-b58e9d63e7a8",
   "metadata": {},
   "outputs": [
    {
     "data": {
      "image/png": "[encoded data removed]",
      "text/plain": [
       "<Figure size 550x350 with 1 Axes>"
      ]
     },
     "metadata": {},
     "output_type": "display_data"
    }
   ],
   "source": [
    "fig, ax = plt.subplots(figsize=(5.5, 3.5))\n",
    "\n",
    "nmr, = ax.plot(offsets, example_signal, 'k', lw=1)\n",
    "peak_locs, = ax.plot(offsets[peaks], example_signal[peaks], 'o', color='r', markersize=5, alpha=0.5)\n",
    "\n",
    "def plot_frame(i):\n",
    "    # Find the peaks\n",
    "    signal = np.array(inter_data['signal'][i])\n",
    "    peaks, props = find_peaks(signal, **peak_kwargs)\n",
    "    \n",
    "    # Update the plot\n",
    "    nmr.set_data(offsets, signal)\n",
    "    peak_locs.set_data([offsets[peaks], signal[peaks]])\n",
    "    return nmr, peak_locs\n",
    "    \n",
    "ax.set_xlabel('$\\delta$ (ppm)')\n",
    "ax.set_xlim(span)\n",
    "ax.set_ylim([0, inter_spectra.max()])\n",
    "fig.tight_layout()\n",
    "\n",
    "ani = animation.FuncAnimation(fig, plot_frame, frames=len(inter_data), interval=15 / len(inter_data))\n",
    "writer = animation.FFMpegWriter(fps=15, bitrate=16000)\n",
    "ani.save(\"videos/initial-peak-tracking.mp4\", writer=writer, dpi=320)"
   ]
  },
  {
   "cell_type": "markdown",
   "id": "1b03e92c-ac5c-4165-aecc-226ff3975d9a",
   "metadata": {},
   "source": [
    "Repeat, storing the peak locations"
   ]
  },
  {
   "cell_type": "code",
   "execution_count": 14,
   "id": "f04323bc-4704-4dc3-8b84-d09d876c660a",
   "metadata": {},
   "outputs": [],
   "source": [
    "def store_peak_locations(signal, **kwargs) -> np.array:\n",
    "    \"\"\"Store the offset and height of each peak\n",
    "    \n",
    "    Args:\n",
    "        signal: NMR signal to be processed\n",
    "        Keyword arguments are passed to `find_peaks`\n",
    "    Returns:\n",
    "        Coordinates of each peak\n",
    "    \"\"\"\n",
    "    signal = np.array(signal)\n",
    "    peaks, props = find_peaks(signal, **kwargs)\n",
    "    return np.stack((offsets[peaks], signal[peaks]), axis=1)"
   ]
  },
  {
   "cell_type": "code",
   "execution_count": 15,
   "id": "149f2422-631b-48f0-a9ee-d4c5a5c2a9cf",
   "metadata": {},
   "outputs": [],
   "source": [
    "inter_data['peak_locs'] = inter_data['signal'].apply(lambda x: store_peak_locations(x, **peak_kwargs))"
   ]
  },
  {
   "cell_type": "markdown",
   "id": "8b5224ad-cf7b-4746-9403-663127abc17c",
   "metadata": {},
   "source": [
    "Save it for later analysis"
   ]
  },
  {
   "cell_type": "code",
   "execution_count": 16,
   "id": "09709ede-0db6-4375-8e6c-4896a5563a26",
   "metadata": {},
   "outputs": [
    {
     "name": "stdout",
     "output_type": "stream",
     "text": [
      "CPU times: user 785 ms, sys: 9.1 ms, total: 794 ms\n",
      "Wall time: 794 ms\n"
     ]
    }
   ],
   "source": [
    "%%time\n",
    "inter_data.to_pickle('peak_data.pkl.gz')"
   ]
  },
  {
   "cell_type": "code",
   "execution_count": null,
   "id": "f28cd3a8-4748-44bd-9f25-9c68d6d3331b",
   "metadata": {},
   "outputs": [],
   "source": []
  }
 ],
 "metadata": {
  "kernelspec": {
   "display_name": "Python 3 (ipykernel)",
   "language": "python",
   "name": "python3"
  },
  "language_info": {
   "codemirror_mode": {
    "name": "ipython",
    "version": 3
   },
   "file_extension": ".py",
   "mimetype": "text/x-python",
   "name": "python",
   "nbconvert_exporter": "python",
   "pygments_lexer": "ipython3",
   "version": "3.10.11"
  }
 },
 "nbformat": 4,
 "nbformat_minor": 5
}
