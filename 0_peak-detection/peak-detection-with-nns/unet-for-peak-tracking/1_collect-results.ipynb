{
 "cells": [
  {
   "cell_type": "markdown",
   "id": "f348a279-6677-4561-8911-529e0e872061",
   "metadata": {},
   "source": [
    "# Collect Results from Training Runs\n",
    "We'll use MLFlow's Client API to get access to the output files from the runs"
   ]
  },
  {
   "cell_type": "code",
   "execution_count": 17,
   "id": "b345d3e3-101f-4464-ae79-2830ce2d4334",
   "metadata": {},
   "outputs": [],
   "source": [
    "%matplotlib inline\n",
    "from matplotlib import pyplot as plt\n",
    "from mlflow.artifacts import load_text\n",
    "from mlflow import MlflowClient\n",
    "from io import StringIO\n",
    "import pandas as pd\n",
    "import numpy as np\n",
    "import json"
   ]
  },
  {
   "cell_type": "markdown",
   "id": "36075e87-01c8-49ee-9ca7-a7e009bc73b0",
   "metadata": {},
   "source": [
    "## Gather Runs\n",
    "The runs I want are for the default experiment, `0`. I want the metrics and run parameters for each."
   ]
  },
  {
   "cell_type": "code",
   "execution_count": 2,
   "id": "06046018-0e06-4fd6-ad02-72eb094b4418",
   "metadata": {},
   "outputs": [],
   "source": [
    "client = MlflowClient()"
   ]
  },
  {
   "cell_type": "code",
   "execution_count": 3,
   "id": "425d5f6b-9476-4a6a-8862-bd81154e4c2f",
   "metadata": {},
   "outputs": [],
   "source": [
    "def gather_run_summaries(exp_name: str = '0') -> list[dict]:\n",
    "    \"\"\"Get all runs for a certain experiment\n",
    "    \n",
    "    Pulls the metrics, parameters, tags, and the artifact URI (so we can download data later).\n",
    "    \n",
    "    Args:\n",
    "        exp_name: Name of the experiment.\n",
    "    Returns:\n",
    "        List of dictionaries describing each run\n",
    "    \"\"\"\n",
    "    \n",
    "    output = []\n",
    "    for run in client.search_runs(exp_name):\n",
    "        record = run.data.tags\n",
    "        record.update((f'metrics.{k}'.replace(\" \", \"_\"), v) for k, v in run.data.metrics.items())\n",
    "        record.update((f'params.{k}'.replace(\" \", \"_\"), v) for k, v in run.data.params.items())\n",
    "        record['artifact.uri'] = run.info.artifact_uri\n",
    "        output.append(record)\n",
    "    return output"
   ]
  },
  {
   "cell_type": "code",
   "execution_count": 4,
   "id": "6bd6b8a9-784c-4d60-9c1e-3d7120b64fe3",
   "metadata": {},
   "outputs": [
    {
     "data": {
      "text/html": [
       "<div>\n",
       "<style scoped>\n",
       "    .dataframe tbody tr th:only-of-type {\n",
       "        vertical-align: middle;\n",
       "    }\n",
       "\n",
       "    .dataframe tbody tr th {\n",
       "        vertical-align: top;\n",
       "    }\n",
       "\n",
       "    .dataframe thead th {\n",
       "        text-align: right;\n",
       "    }\n",
       "</style>\n",
       "<table border=\"1\" class=\"dataframe\">\n",
       "  <thead>\n",
       "    <tr style=\"text-align: right;\">\n",
       "      <th></th>\n",
       "      <th>mlflow.source.name</th>\n",
       "      <th>mlflow.runName</th>\n",
       "      <th>mlflow.user</th>\n",
       "      <th>mlflow.source.type</th>\n",
       "      <th>mlflow.source.git.commit</th>\n",
       "      <th>mlflow.log-model.history</th>\n",
       "      <th>metrics.loss</th>\n",
       "      <th>metrics.validation_loss</th>\n",
       "      <th>params.features</th>\n",
       "      <th>params.cuda_version</th>\n",
       "      <th>...</th>\n",
       "      <th>params.test_size</th>\n",
       "      <th>params.depth</th>\n",
       "      <th>params.device_name</th>\n",
       "      <th>params.batch_size</th>\n",
       "      <th>params.nonpeak_weight</th>\n",
       "      <th>params.num_epochs</th>\n",
       "      <th>params.model</th>\n",
       "      <th>params.offset_count</th>\n",
       "      <th>params.kernel_width</th>\n",
       "      <th>artifact.uri</th>\n",
       "    </tr>\n",
       "  </thead>\n",
       "  <tbody>\n",
       "    <tr>\n",
       "      <th>0</th>\n",
       "      <td>0_train-models.py</td>\n",
       "      <td>nebulous-shrew-128</td>\n",
       "      <td>lward</td>\n",
       "      <td>LOCAL</td>\n",
       "      <td>b918c66cd3d2b065d2d4b94608a41f6499c2c054</td>\n",
       "      <td>[{\"run_id\": \"2f8323b14e0248dba8283c6f14a63388\"...</td>\n",
       "      <td>0.322882</td>\n",
       "      <td>0.322882</td>\n",
       "      <td>64</td>\n",
       "      <td>11.8</td>\n",
       "      <td>...</td>\n",
       "      <td>1024</td>\n",
       "      <td>3</td>\n",
       "      <td>NVIDIA GeForce RTX 3070 Ti</td>\n",
       "      <td>128</td>\n",
       "      <td>0.01</td>\n",
       "      <td>256</td>\n",
       "      <td>UNetPeakClassifier</td>\n",
       "      <td>256</td>\n",
       "      <td>25</td>\n",
       "      <td>file:///home/lward/Work/AutomatedLabs/nmr-peak...</td>\n",
       "    </tr>\n",
       "  </tbody>\n",
       "</table>\n",
       "<p>1 rows × 24 columns</p>\n",
       "</div>"
      ],
      "text/plain": [
       "  mlflow.source.name      mlflow.runName mlflow.user mlflow.source.type  \\\n",
       "0  0_train-models.py  nebulous-shrew-128       lward              LOCAL   \n",
       "\n",
       "                   mlflow.source.git.commit  \\\n",
       "0  b918c66cd3d2b065d2d4b94608a41f6499c2c054   \n",
       "\n",
       "                            mlflow.log-model.history  metrics.loss  \\\n",
       "0  [{\"run_id\": \"2f8323b14e0248dba8283c6f14a63388\"...      0.322882   \n",
       "\n",
       "   metrics.validation_loss params.features params.cuda_version  ...  \\\n",
       "0                 0.322882              64                11.8  ...   \n",
       "\n",
       "  params.test_size params.depth          params.device_name params.batch_size  \\\n",
       "0             1024            3  NVIDIA GeForce RTX 3070 Ti               128   \n",
       "\n",
       "  params.nonpeak_weight params.num_epochs        params.model  \\\n",
       "0                  0.01               256  UNetPeakClassifier   \n",
       "\n",
       "  params.offset_count params.kernel_width  \\\n",
       "0                 256                  25   \n",
       "\n",
       "                                        artifact.uri  \n",
       "0  file:///home/lward/Work/AutomatedLabs/nmr-peak...  \n",
       "\n",
       "[1 rows x 24 columns]"
      ]
     },
     "execution_count": 4,
     "metadata": {},
     "output_type": "execute_result"
    }
   ],
   "source": [
    "summary = pd.DataFrame(gather_run_summaries())\n",
    "summary.head()"
   ]
  },
  {
   "cell_type": "markdown",
   "id": "ee0bc1b2-7a42-406f-b957-96e29f32458a",
   "metadata": {},
   "source": [
    "## Assess the best model\n",
    "Get the model which treated a full-resolution NMR pattern with the lowest loss on the test set."
   ]
  },
  {
   "cell_type": "code",
   "execution_count": 5,
   "id": "b8f5d462-a52e-47ba-8dec-a12fa84fae92",
   "metadata": {},
   "outputs": [],
   "source": [
    "best_model = summary.query('`params.offset_count`==\"256\"').sort_values('metrics.loss', ascending=True).iloc[0]"
   ]
  },
  {
   "cell_type": "markdown",
   "id": "842e9e88-a77d-46bf-8352-d934445ec90f",
   "metadata": {},
   "source": [
    "Pull in the test data. It's stored by MLFlow, we just need to download it"
   ]
  },
  {
   "cell_type": "code",
   "execution_count": 19,
   "id": "156b8a65-230b-4493-b512-1bfac44e1a35",
   "metadata": {},
   "outputs": [],
   "source": [
    "data = pd.read_json(StringIO(load_text(f'{best_model[\"artifact.uri\"]}/test-results.json')), lines=True)\n",
    "generator_settings = json.loads(load_text(f'{best_model[\"artifact.uri\"]}/test-generator.json'))"
   ]
  },
  {
   "cell_type": "code",
   "execution_count": 20,
   "id": "d46793a5-01ed-48ad-8976-2dfc830ae2b8",
   "metadata": {},
   "outputs": [
    {
     "data": {
      "text/plain": [
       "{'seed': 2,\n",
       " 'num_to_generate': 1024,\n",
       " 'multiplicity_depth_weights': [0.2, 0.7, 0.1],\n",
       " 'multiplicity_weights': [0.5, 0.45, 0.05],\n",
       " 'multiplicity_coupling_offset_range': [0.002, 0.02],\n",
       " 'peak_width_range': [0.0004, 0.001],\n",
       " 'peak_area_range': [0.02, 1.0],\n",
       " 'pattern_peak_count_weights': [0.5, 0.4, 0.1],\n",
       " 'offset_length': 0.2,\n",
       " 'offset_count': 256}"
      ]
     },
     "execution_count": 20,
     "metadata": {},
     "output_type": "execute_result"
    }
   ],
   "source": [
    "generator_settings"
   ]
  },
  {
   "cell_type": "code",
   "execution_count": 31,
   "id": "73b52f4d-4461-431f-b71a-737777e1d69a",
   "metadata": {},
   "outputs": [
    {
     "data": {
      "image/png": "[encoded data removed]",
      "text/plain": [
       "<Figure size 350x200 with 1 Axes>"
      ]
     },
     "metadata": {},
     "output_type": "display_data"
    }
   ],
   "source": [
    "fig, ax = plt.subplots(figsize=(3.5, 2.))\n",
    "\n",
    "# Plot the known pattern and the locations of the peaks\n",
    "offsets = np.linspace(0, generator_settings['offset_length'], generator_settings['offset_count'])\n",
    "example = data.iloc[317]\n",
    "ax.plot(offsets, example['pattern'], color='steelblue', label='Pattern')\n",
    "ax.set_ylim(ax.get_ylim())\n",
    "for peak in example['peak_info']:\n",
    "    ax.plot([peak['center']] * 2, ax.get_ylim(), 'k--', lw=0.5, alpha=0.7)\n",
    "    \n",
    "ax.set_xlim(0, offsets.max())\n",
    "    \n",
    "# Plot the peak probability\n",
    "ax.imshow(np.expand_dims(example['y_pred'], 0), extent=[*ax.get_xlim(), *ax.get_ylim()], alpha=0.7, cmap='Reds', aspect='auto', vmin=0, vmax=1)\n",
    "\n",
    "ax.set_xlabel('$\\\\delta$')\n",
    "fig.tight_layout()"
   ]
  },
  {
   "cell_type": "code",
   "execution_count": null,
   "id": "20f2261f-e980-48be-aa4e-f8645208300f",
   "metadata": {},
   "outputs": [],
   "source": []
  }
 ],
 "metadata": {
  "kernelspec": {
   "display_name": "Python 3 (ipykernel)",
   "language": "python",
   "name": "python3"
  },
  "language_info": {
   "codemirror_mode": {
    "name": "ipython",
    "version": 3
   },
   "file_extension": ".py",
   "mimetype": "text/x-python",
   "name": "python",
   "nbconvert_exporter": "python",
   "pygments_lexer": "ipython3",
   "version": "3.10.11"
  }
 },
 "nbformat": 4,
 "nbformat_minor": 5
}
